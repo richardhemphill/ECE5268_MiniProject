{
 "metadata": {
  "language_info": {
   "codemirror_mode": {
    "name": "ipython",
    "version": 3
   },
   "file_extension": ".py",
   "mimetype": "text/x-python",
   "name": "python",
   "nbconvert_exporter": "python",
   "pygments_lexer": "ipython3",
   "version": "3.8.5-final"
  },
  "orig_nbformat": 2,
  "kernelspec": {
   "name": "python3",
   "display_name": "Python 3.8.5 64-bit (conda)",
   "metadata": {
    "interpreter": {
     "hash": "682f7833ba8e905d5acff324393f9b2a5e85cb3ab0887fadf22e785eb301dcc5"
    }
   }
  }
 },
 "nbformat": 4,
 "nbformat_minor": 2,
 "cells": [
  {
   "source": [
    "# Predicting MPG with SDC"
   ],
   "cell_type": "markdown",
   "metadata": {}
  },
  {
   "source": [
    "**Author:** Richard Hemphill<br>\n",
    "**ID:** 903877709<br>\n",
    "**Class:** ECE5268 Theory of Neural Networks<br>\n",
    "**Instructor:** Dr. Georgios C. Anagnostopoulos<br>\n",
    "**Description:** Utilize characteristics from various cars to predict miles-per-gallon fuel consumption.  The prediction equation is determined using Stocastic Gradient Descent minimization method."
   ],
   "cell_type": "markdown",
   "metadata": {}
  },
  {
   "cell_type": "code",
   "execution_count": 201,
   "metadata": {},
   "outputs": [],
   "source": [
    "# CONSTANTS\n",
    "DATASET_FILE = 'autompg_dataset.csv'\n",
    "NUMBER_FOR_TRAINING = 200\n",
    "NUMBER_FOR_VALIDATION = 100\n",
    "OUTPUT_FEATURE='mpg'\n",
    "INPUT_FEATURES=['horsepower', 'weight']\n",
    "EPOCHS = 1000"
   ]
  },
  {
   "cell_type": "code",
   "execution_count": 202,
   "metadata": {},
   "outputs": [],
   "source": [
    "# LIBRARIES\n",
    "import numpy as np                  # matrix manipulation\n",
    "import random                       # shuffle data\n",
    "import matplotlib.pyplot as plt     # surface plot"
   ]
  },
  {
   "cell_type": "code",
   "execution_count": 203,
   "metadata": {},
   "outputs": [],
   "source": [
    "# FUNCTIONS\n",
    "# Create Augmented Design Matrix\n",
    "def AugmentedDesignMatrix(dataSet, features):\n",
    "    # Create the design matrix.\n",
    "    adm = dataSet[features[0]]\n",
    "    for feature in features[1:]:\n",
    "        adm = np.column_stack((adm,dataSet[feature]))\n",
    "     # Augment the design matrix to accomodate the bias term.\n",
    "    adm = np.column_stack((adm,np.ones(len(adm))))\n",
    "    return adm"
   ]
  },
  {
   "cell_type": "code",
   "execution_count": 204,
   "metadata": {},
   "outputs": [],
   "source": [
    "# Calculate Mean Squared Error\n",
    "def MSE(actual, predicted):\n",
    "    return np.square(np.subtract(actual, predicted)).mean()"
   ]
  },
  {
   "cell_type": "code",
   "execution_count": 205,
   "metadata": {},
   "outputs": [],
   "source": [
    "def PredictionEquation(y, xs, w):\n",
    "    eq = '{} = '.format(y)\n",
    "    wfmat = lambda i: ('+' if i > 0 else '') + '{:0.6}'.format(i)\n",
    "    for idx, x in enumerate(xs):\n",
    "        eq = eq + '{}*{}'.format(wfmat(w[idx]), x)\n",
    "    eq = eq + wfmat(w[-1])\n",
    "    return eq"
   ]
  },
  {
   "cell_type": "code",
   "execution_count": 206,
   "metadata": {},
   "outputs": [],
   "source": [
    "# Load data file\n",
    "csvFile = open(DATASET_FILE, 'r')\n",
    "dataSet = np.genfromtxt(csvFile, delimiter=',', names=True, case_sensitive=True)\n",
    "csvFile.close()"
   ]
  },
  {
   "cell_type": "code",
   "execution_count": 207,
   "metadata": {},
   "outputs": [],
   "source": [
    "# shuffle data randomly so that training will not use same sets every time.\n",
    "random.shuffle(dataSet)"
   ]
  },
  {
   "source": [
    "# Split the data set into groups for training, validation and test.\n",
    "trainData = dataSet[:NUMBER_FOR_TRAINING]\n",
    "valData = dataSet[NUMBER_FOR_TRAINING+1:NUMBER_FOR_TRAINING+NUMBER_FOR_VALIDATION]\n",
    "testData = dataSet[NUMBER_FOR_TRAINING+NUMBER_FOR_VALIDATION+1:]"
   ],
   "cell_type": "code",
   "metadata": {},
   "execution_count": 208,
   "outputs": []
  },
  {
   "source": [
    "## Part (a): Batch Size 1\n",
    "tbd"
   ],
   "cell_type": "markdown",
   "metadata": {}
  },
  {
   "cell_type": "code",
   "execution_count": 215,
   "metadata": {
    "tags": []
   },
   "outputs": [
    {
     "output_type": "stream",
     "name": "stdout",
     "text": [
      "[2.3400e+02 6.3072e+03 1.8000e+00]\n",
      "[-1.43850178e+08 -3.87731556e+09 -1.10653983e+06]\n",
      "[5.89540561e+13 1.58903856e+15 4.53492739e+11]\n",
      "[-1.81208217e+19 -4.88425840e+20 -1.39390936e+17]\n",
      "[4.45586186e+24 1.20102615e+26 3.42758604e+22]\n",
      "[-9.13069739e+29 -2.46107413e+31 -7.02361337e+27]\n",
      "[1.60372182e+35 4.32264712e+36 1.23363217e+33]\n",
      "[-2.46468730e+40 -6.64328022e+41 -1.89591330e+38]\n",
      "[3.36698932e+45 9.07533122e+46 2.58999179e+43]\n",
      "[-4.13965176e+50 -1.11579537e+52 -3.18434751e+48]\n",
      "[4.62692904e+55 1.24713533e+57 3.55917618e+53]\n",
      "[-4.74059610e+60 -1.27777298e+62 -3.64661239e+58]\n",
      "[4.48343226e+65 1.20845743e+67 3.44879404e+63]\n",
      "[-3.93734284e+70 -1.06126533e+72 -3.02872526e+68]\n",
      "[3.22724752e+75 8.69867332e+76 2.48249809e+73]\n",
      "[-2.47988900e+80 -6.68425467e+81 -1.90760693e+78]\n",
      "[1.79350635e+85 4.83418942e+86 1.37962027e+83]\n",
      "[-1.22503827e+90 -3.30194930e+91 -9.42337130e+87]\n",
      "[7.92711110e+94 2.13666133e+96 6.09777777e+92]\n",
      "[-4.87307938e+099 -1.31348232e+101 -3.74852260e+097]\n",
      "[2.85300396e+104 7.68994298e+105 2.19461843e+102]\n",
      "[-1.59440087e+109 -4.29752359e+110 -1.22646221e+107]\n",
      "[8.52289552e+113 2.29724815e+115 6.55607348e+111]\n",
      "[-4.36609365e+118 -1.17683016e+120 -3.35853357e+116]\n",
      "[2.14718670e+123 5.78749399e+124 1.65168208e+121]\n",
      "[-1.01534323e+128 -2.73674052e+129 -7.81033254e+125]\n",
      "[4.62343948e+132 1.24619476e+134 3.55649191e+130]\n",
      "[-2.03012536e+137 -5.47196866e+138 -1.56163489e+135]\n",
      "[8.60677037e+141 2.31985564e+143 6.62059259e+139]\n",
      "[-3.52723151e+146 -9.50724555e+147 -2.71325501e+144]\n",
      "[1.39890081e+151 3.77057573e+152 1.07607755e+149]\n",
      "[-5.37466304e+155 -1.44867841e+157 -4.13435619e+153]\n",
      "[2.00240189e+160 5.39724325e+161 1.54030915e+158]\n",
      "[-7.24078948e+164 -1.95167126e+166 -5.56983806e+162]\n",
      "[2.54349633e+169 6.85570086e+170 1.95653563e+167]\n",
      "[-8.68643349e+173 -2.34132792e+175 -6.68187191e+171]\n",
      "[2.88637202e+178 7.77988274e+179 2.22028617e+176]\n",
      "[-9.33858095e+182 -2.51710674e+184 -7.18352381e+180]\n",
      "[2.94393425e+187 7.93503508e+188 2.26456481e+185]\n",
      "[-9.04856241e+191 -2.43893559e+193 -6.96043262e+189]\n",
      "[2.71335644e+196 7.31353919e+197 2.08719726e+194]\n",
      "[-7.94270299e+200 -2.14086394e+202 -6.10977153e+198]\n",
      "[2.27096416e+205 6.12112185e+206 1.74689550e+203]\n",
      "[-6.34552649e+209 -1.71036345e+211 -4.88117423e+207]\n",
      "[1.73366369e+214 4.67289044e+215 1.33358745e+212]\n",
      "[-4.63357689e+218 -1.24892719e+220 -3.56428992e+216]\n",
      "[1.21206948e+223 3.26699343e+224 9.32361138e+220]\n",
      "[-3.10452330e+227 -8.36788435e+228 -2.38809485e+225]\n",
      "[7.78945614e+231 2.09955803e+233 5.99188934e+229]\n",
      "[-1.91533644e+236 -5.16256838e+237 -1.47333572e+234]\n",
      "[4.61724034e+240 1.24452386e+242 3.55172334e+238]\n",
      "[-1.09165742e+245 -2.94243661e+246 -8.39736476e+242]\n",
      "[2.53231298e+249 6.82555744e+250 1.94793306e+247]\n",
      "[-5.76540934e+253 -1.55399956e+255 -4.43493026e+251]\n",
      "[1.28876470e+258 3.47371654e+259 9.91357459e+255]\n",
      "[-2.82938094e+262 -7.62626986e+263 -2.17644688e+260]\n",
      "[6.10270019e+266 1.64491242e+268 4.69438476e+264]\n",
      "[-1.29359746e+271 -3.48674270e+272 -9.95074970e+268]\n",
      "[2.69557800e+275 7.26561947e+276 2.07352154e+273]\n",
      "[-5.52338174e+279 -1.48876382e+281 -4.24875518e+277]\n",
      "[1.11321559e+284 3.00054416e+285 8.56319682e+281]\n",
      "[-2.20745210e+288 -5.94993244e+289 -1.69804008e+286]\n",
      "[4.30778567e+292 1.16111392e+294 3.31368128e+290]\n",
      "[-8.27517348e+296 -2.23047753e+298 -6.36551806e+294]\n",
      "[1.56518757e+301 4.21878250e+302 1.20399044e+299]\n",
      "[            -inf             -inf -2.24275271e+303]\n",
      "[nan nan inf]\n",
      "[nan nan nan]\n",
      "[nan nan nan]\n",
      "[nan nan nan]\n",
      "[nan nan nan]\n",
      "[nan nan nan]\n",
      "[nan nan nan]\n",
      "[nan nan nan]\n",
      "[nan nan nan]\n",
      "[nan nan nan]\n",
      "[nan nan nan]\n",
      "[nan nan nan]\n",
      "[nan nan nan]\n",
      "[nan nan nan]\n",
      "[nan nan nan]\n",
      "[nan nan nan]\n",
      "[nan nan nan]\n",
      "[nan nan nan]\n",
      "[nan nan nan]\n",
      "[nan nan nan]\n",
      "[nan nan nan]\n",
      "[nan nan nan]\n",
      "[nan nan nan]\n",
      "[nan nan nan]\n",
      "[nan nan nan]\n",
      "[nan nan nan]\n",
      "[nan nan nan]\n",
      "[nan nan nan]\n",
      "[nan nan nan]\n",
      "[nan nan nan]\n",
      "[nan nan nan]\n",
      "[nan nan nan]\n",
      "[nan nan nan]\n",
      "[nan nan nan]\n",
      "<ipython-input-215-4de7eba553b3>:18: RuntimeWarning: invalid value encountered in add\n",
      "  Wa = Wa + dW\n"
     ]
    }
   ],
   "source": [
    "EPOCHS = 1\n",
    "maxLearningRate = 0.1\n",
    "decay = 1\n",
    "batchSize = 1\n",
    "iterations = 100#round(len(trainData)/batchSize)\n",
    "Wa = np.zeros(len(INPUT_FEATURES)+1)\n",
    "for e in range(EPOCHS):\n",
    "    #print('epoch({})'.format(e))\n",
    "    for i in range(iterations):\n",
    "        #print('iteration({})'.format(i))\n",
    "        batch = trainData[batchSize*i:batchSize*(i+1)]\n",
    "        Y = batch[OUTPUT_FEATURE]\n",
    "        X = AugmentedDesignMatrix(dataSet=batch,features=INPUT_FEATURES)\n",
    "        dE = np.dot(Xs.T,(np.dot(Xs,Wa)-Ys))\n",
    "        g = dE/batchSize\n",
    "        learningRate = maxLearningRate/(1+(decay*i))\n",
    "        dW = -1 * learningRate * g\n",
    "        Wa = Wa + dW\n",
    "        print(Wa)"
   ]
  },
  {
   "cell_type": "code",
   "execution_count": 210,
   "metadata": {},
   "outputs": [],
   "source": [
    "#print(PredictionEquation(y=OUTPUT_FEATURE, xs=INPUT_FEATURES, w=Wa))"
   ]
  }
 ]
}