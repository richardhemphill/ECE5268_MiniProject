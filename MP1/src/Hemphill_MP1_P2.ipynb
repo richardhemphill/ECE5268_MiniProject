{
 "metadata": {
  "language_info": {
   "codemirror_mode": {
    "name": "ipython",
    "version": 3
   },
   "file_extension": ".py",
   "mimetype": "text/x-python",
   "name": "python",
   "nbconvert_exporter": "python",
   "pygments_lexer": "ipython3",
   "version": "3.8.5-final"
  },
  "orig_nbformat": 2,
  "kernelspec": {
   "name": "python3",
   "display_name": "Python 3.8.5 64-bit (conda)",
   "metadata": {
    "interpreter": {
     "hash": "682f7833ba8e905d5acff324393f9b2a5e85cb3ab0887fadf22e785eb301dcc5"
    }
   }
  }
 },
 "nbformat": 4,
 "nbformat_minor": 2,
 "cells": [
  {
   "source": [
    "# Predicting MPG with OLS"
   ],
   "cell_type": "markdown",
   "metadata": {}
  },
  {
   "source": [
    "**Author:** Richard Hemphill<br>\n",
    "**ID:** 903877709<br>\n",
    "**Class:** ECE5268 Theory of Neural Networks<br>\n",
    "**Instructor:** Dr. Georgios C. Anagnostopoulos<br>\n",
    "**Description:** Utilize characteristics from various cars to predict miles-per-gallon fuel consumption.  The prediction equation is determined using Ordinary Least Squares regression."
   ],
   "cell_type": "markdown",
   "metadata": {}
  },
  {
   "cell_type": "code",
   "execution_count": 85,
   "metadata": {},
   "outputs": [],
   "source": [
    "# CONSTANTS\n",
    "DATASET_FILE = 'autompg_dataset.csv'\n",
    "NUMBER_FOR_TRAINING = 200\n",
    "NUMBER_FOR_VALIDATION = 100"
   ]
  },
  {
   "cell_type": "code",
   "execution_count": 86,
   "metadata": {},
   "outputs": [],
   "source": [
    "# LIBRARIES\n",
    "import numpy as np                  # matrix manipulation\n",
    "import random                       # shuffle data\n",
    "import matplotlib.pyplot as plt     # surface plot"
   ]
  },
  {
   "cell_type": "code",
   "execution_count": 87,
   "metadata": {},
   "outputs": [],
   "source": [
    "# FUNCTIONS\n",
    "def MSE(actual, predicted):\n",
    "    return np.square(np.subtract(actual, predicted)).mean()"
   ]
  },
  {
   "cell_type": "code",
   "execution_count": 88,
   "metadata": {},
   "outputs": [],
   "source": [
    "def PredictionEquation(y, xs, w):\n",
    "    eq = '{} = '.format(y)\n",
    "    wfmat = lambda i: ('+' if i > 0 else '') + '{:0.6}'.format(i)\n",
    "    for idx, x in enumerate(xs):\n",
    "        eq = eq + '{}*{}'.format(wfmat(w[idx]), x)\n",
    "    eq = eq + wfmat(w[-1])\n",
    "    return eq"
   ]
  },
  {
   "cell_type": "code",
   "execution_count": 89,
   "metadata": {},
   "outputs": [],
   "source": [
    "# Load data file\n",
    "csvFile = open(DATASET_FILE, 'r')\n",
    "dataSet = np.genfromtxt(csvFile, delimiter=',', names=True, case_sensitive=True)\n",
    "csvFile.close()"
   ]
  },
  {
   "cell_type": "code",
   "execution_count": 90,
   "metadata": {},
   "outputs": [],
   "source": [
    "# shuffle data randomly so that training will not use same sets every time.\n",
    "random.shuffle(dataSet)"
   ]
  },
  {
   "source": [
    "# Split the data set into groups for training, validation and test.\n",
    "trainData = dataSet[:NUMBER_FOR_TRAINING]\n",
    "valData = dataSet[NUMBER_FOR_TRAINING+1:NUMBER_FOR_VALIDATION]\n",
    "testData = dataSet[NUMBER_FOR_VALIDATION:]"
   ],
   "cell_type": "code",
   "metadata": {},
   "execution_count": 91,
   "outputs": []
  },
  {
   "source": [
    "## Part (a):\n",
    "Use OLS regression on the training data to predict _mpg_ based on _horsepower_ and _weight_."
   ],
   "cell_type": "markdown",
   "metadata": {}
  },
  {
   "cell_type": "code",
   "execution_count": 92,
   "metadata": {},
   "outputs": [],
   "source": [
    "# Specify the features to be used.\n",
    "outputFeature='mpg'\n",
    "inputFeatures=['horsepower', 'weight']"
   ]
  },
  {
   "cell_type": "code",
   "execution_count": 93,
   "metadata": {},
   "outputs": [],
   "source": [
    "# Create the output vector\n",
    "Y = trainData[outputFeature]"
   ]
  },
  {
   "cell_type": "code",
   "execution_count": 94,
   "metadata": {},
   "outputs": [],
   "source": [
    "# Create the design matrix.\n",
    "designMatrix = trainData[inputFeatures[0]]\n",
    "for inputFeature in inputFeatures[1:]:\n",
    "    designMatrix = np.column_stack((designMatrix,trainData[inputFeature]))"
   ]
  },
  {
   "cell_type": "code",
   "execution_count": 95,
   "metadata": {},
   "outputs": [],
   "source": [
    "# Augment the design matrix to accomodate the bias term.\n",
    "X = np.column_stack((designMatrix,np.ones(len(designMatrix))))"
   ]
  },
  {
   "cell_type": "code",
   "execution_count": 96,
   "metadata": {},
   "outputs": [],
   "source": [
    "# Create the augmented model parameter vector.\n",
    "W = np.ones(len(inputFeatures)+1)"
   ]
  },
  {
   "cell_type": "code",
   "execution_count": 97,
   "metadata": {},
   "outputs": [],
   "source": [
    "# Calculate the augmented model parameter vector using OLS\n",
    "R = np.dot(X.T, X)\n",
    "Rinv = np.linalg.inv(R)\n",
    "W = np.dot(np.dot(Rinv, X.T), Y)"
   ]
  },
  {
   "source": [
    "### i Prediction Equation"
   ],
   "cell_type": "markdown",
   "metadata": {}
  },
  {
   "cell_type": "code",
   "execution_count": 99,
   "metadata": {},
   "outputs": [
    {
     "output_type": "stream",
     "name": "stdout",
     "text": [
      "mpg = -0.0164966*horsepower-0.00508234*weight+37.66\n"
     ]
    }
   ],
   "source": [
    "print(PredictionEquation(y=outputFeature, xs=inputFeatures, w=W))"
   ]
  },
  {
   "cell_type": "code",
   "execution_count": null,
   "metadata": {},
   "outputs": [],
   "source": []
  }
 ]
}