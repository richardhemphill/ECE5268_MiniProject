{
 "metadata": {
  "language_info": {
   "codemirror_mode": {
    "name": "ipython",
    "version": 3
   },
   "file_extension": ".py",
   "mimetype": "text/x-python",
   "name": "python",
   "nbconvert_exporter": "python",
   "pygments_lexer": "ipython3",
   "version": "3.7.9"
  },
  "orig_nbformat": 2,
  "kernelspec": {
   "name": "python379jvsc74a57bd0e2ee6990e829ee75785e20acf53b05f75aefa7ec77d0c7f557db63932b894e5e",
   "display_name": "Python 3.7.9 64-bit"
  },
  "metadata": {
   "interpreter": {
    "hash": "e2ee6990e829ee75785e20acf53b05f75aefa7ec77d0c7f557db63932b894e5e"
   }
  }
 },
 "nbformat": 4,
 "nbformat_minor": 2,
 "cells": [
  {
   "source": [
    "# 2x Single-Image Super-Resolution on Grayscale Images"
   ],
   "cell_type": "markdown",
   "metadata": {}
  },
  {
   "source": [
    "**Assignment:** Individual Class Project<br>\n",
    "**Author:** Richard Hemphill<br>\n",
    "**ID:** 903877709<br>\n",
    "**Class:** ECE5268 Theory of Neural Networks<br>\n",
    "**Instructor:** Dr. Georgios C. Anagnostopoulos<br>\n",
    "**Description:** Using small-sized grayscale images, construct a CNN-based architecture that will downscale (magnify) the images by a factor of 2.<br>\n",
    "**Emphasis:** Describe the concept of single-image super-resolution, describe the architecture in sufficient detail and show indicative training and post-training results.<br>\n"
   ],
   "cell_type": "markdown",
   "metadata": {}
  },
  {
   "source": [
    "**References:**\n",
    "* https://www.kaggle.com/spaceengineer1/alexonly-greyscale\n",
    "* https://www.kaggle.com/c/two-sigma-financial-news/discussion/83593\n",
    "* https://scikit-image.org/docs/dev/auto_examples/transform/plot_rescale.html"
   ],
   "cell_type": "markdown",
   "metadata": {}
  },
  {
   "cell_type": "code",
   "execution_count": 120,
   "metadata": {},
   "outputs": [],
   "source": [
    "# Imports\n",
    "import os.path\n",
    "from pathlib import Path\n",
    "from zipfile import ZipFile\n",
    "import matplotlib.image as mpimg\n",
    "from skimage.transform import resize\n",
    "from kaggle.api.kaggle_api_extended import KaggleApi"
   ]
  },
  {
   "cell_type": "code",
   "execution_count": 121,
   "metadata": {},
   "outputs": [],
   "source": [
    "# Constants\n",
    "IMAGE_SET_OWNER = 'spaceengineer1'\n",
    "IMAGE_SET_FILE = 'alexonly-greyscale'\n",
    "RAW_IMAGE_FOLDER = 'images'\n",
    "PROCESSED_IMAGE_FOLDER ='dataSet'\n",
    "IMAGE_EXTENSION = 'jpg'\n",
    "ORIGINAL_IMAGE_SIZE = 256\n",
    "ORIGINAL_IMAGE_SHAPE = (ORIGINAL_IMAGE_SIZE, ORIGINAL_IMAGE_SIZE)\n",
    "UPSCALE_FACTOR = 2\n",
    "LOW_RES_IMAGE_SHAPE = ORIGINAL_IMAGE_SHAPE/UPSCALE_FACTOR"
   ]
  },
  {
   "cell_type": "code",
   "execution_count": 122,
   "metadata": {},
   "outputs": [],
   "source": [
    "# Common Clases\n",
    "class Color:\n",
    "   PURPLE = '\\033[95m'\n",
    "   CYAN = '\\033[96m'\n",
    "   DARKCYAN = '\\033[36m'\n",
    "   BLUE = '\\033[94m'\n",
    "   GREEN = '\\033[92m'\n",
    "   YELLOW = '\\033[93m'\n",
    "   RED = '\\033[91m'\n",
    "   BOLD = '\\033[1m'\n",
    "   UNDERLINE = '\\033[4m'\n",
    "   END = '\\033[0m'"
   ]
  },
  {
   "source": [
    "## Prepocessing"
   ],
   "cell_type": "markdown",
   "metadata": {}
  },
  {
   "cell_type": "code",
   "execution_count": 123,
   "metadata": {},
   "outputs": [],
   "source": [
    "# Connect to the Kaggle Database\n",
    "def KaggleLogin():\n",
    "    try:\n",
    "        api = KaggleApi()\n",
    "        api.authenticate()\n",
    "        return api\n",
    "    except:\n",
    "        print('{}{}Need Kaggle Account{}'.format(Color.BOLD,Color.RED,Color.END))\n",
    "        print('Copy Kaggle API Token to ~/.kaggle'.format())"
   ]
  },
  {
   "cell_type": "code",
   "execution_count": 124,
   "metadata": {},
   "outputs": [],
   "source": [
    "# Extract raw image set\n",
    "def DownloadImageSet(api, imageSetOwner = IMAGE_SET_OWNER, imageSetFile = IMAGE_SET_FILE):\n",
    "    if not os.path.isfile(imageSetFile):\n",
    "        api.dataset_download_files('{}/{}'.format(imageSetOwner, imageSetFile))\n",
    "        zf = ZipFile('{}.zip'.format(imageSetFile))\n",
    "        zf.extractall() \n",
    "        zf.close()"
   ]
  },
  {
   "cell_type": "code",
   "execution_count": 125,
   "metadata": {},
   "outputs": [],
   "source": [
    "# Convert images as needed for training\n",
    "def PreProcessImages(rawFolder = RAW_IMAGE_FOLDER, processedFolder=PROCESSED_IMAGE_FOLDER, shape=ORIGINAL_IMAGE_SHAPE, extension = IMAGE_EXTENSION):\n",
    "    pathlist = Path(rawFolder).glob('**/*.{}'.format(extension))\n",
    "    for rawImg in pathlist:\n",
    "        img = mpimg.imread(rawImg)\n",
    "        resizedImg = resize(img, shape, anti_aliasing=True)\n",
    "        newImg = str(rawImg).replace(rawFolder, processedFolder)\n",
    "        os.makedirs(os.path.dirname(newImg), exist_ok=True)\n",
    "        mpimg.imsave(newImg, resizedImg)"
   ]
  },
  {
   "cell_type": "code",
   "execution_count": 126,
   "metadata": {},
   "outputs": [],
   "source": [
    "# Pre Process Images\n",
    "kaggle = KaggleLogin()\n",
    "if kaggle is not None:\n",
    "    DownloadImageSet(kaggle)\n",
    "PreProcessImages()"
   ]
  },
  {
   "source": [
    "## Create Model"
   ],
   "cell_type": "markdown",
   "metadata": {}
  },
  {
   "cell_type": "code",
   "execution_count": null,
   "metadata": {},
   "outputs": [],
   "source": []
  }
 ]
}